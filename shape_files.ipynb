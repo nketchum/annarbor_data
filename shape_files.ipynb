{
  "nbformat": 4,
  "nbformat_minor": 0,
  "metadata": {
    "colab": {
      "provenance": [],
      "authorship_tag": "ABX9TyMvRSAt85QLAFp5aBYMEt6w",
      "include_colab_link": true
    },
    "kernelspec": {
      "name": "python3",
      "display_name": "Python 3"
    },
    "language_info": {
      "name": "python"
    }
  },
  "cells": [
    {
      "cell_type": "markdown",
      "metadata": {
        "id": "view-in-github",
        "colab_type": "text"
      },
      "source": [
        "<a href=\"https://colab.research.google.com/github/nketchum/annarbor_data/blob/main/shape_files.ipynb\" target=\"_parent\"><img src=\"https://colab.research.google.com/assets/colab-badge.svg\" alt=\"Open In Colab\"/></a>"
      ]
    },
    {
      "cell_type": "markdown",
      "source": [
        "# Mapping Experiments\n",
        "#### Removed libraries:\n",
        "*   pip install pyshp\n",
        "*   pip install pyproj\n",
        "\n",
        "\n"
      ],
      "metadata": {
        "id": "TYBzWy8knFUj"
      }
    },
    {
      "cell_type": "code",
      "source": [
        "import shapefile"
      ],
      "metadata": {
        "id": "g53sK2IHbquS"
      },
      "execution_count": null,
      "outputs": []
    },
    {
      "cell_type": "code",
      "source": [
        "# File-like ways to open the files so that we can loop, etc.\n",
        "shp_file = open(\"shape_files/AA_Building_Footprints.shp\", \"rb\")\n",
        "dbf_file = open(\"shape_files/AA_Building_Footprints.dbf\", \"rb\")\n",
        "\n",
        "# Construct the reader.\n",
        "sf = shapefile.Reader(shp=shp_file, dbf=dbf_file)"
      ],
      "metadata": {
        "id": "fagH_y5fhM-G"
      },
      "execution_count": null,
      "outputs": []
    },
    {
      "cell_type": "code",
      "source": [
        "# File-like ways to open the files so that we can loop, etc.\n",
        "shp_file_trees = open(\"tree_files/A2Trees.shp\", \"rb\")\n",
        "dbf_file_trees = open(\"tree_files/A2Trees.dbf\", \"rb\")\n",
        "\n",
        "# Construct the reader.\n",
        "sf_trees = shapefile.Reader(shp=shp_file_trees, dbf=dbf_file_trees)"
      ],
      "metadata": {
        "id": "m6B7axmym9j4"
      },
      "execution_count": null,
      "outputs": []
    },
    {
      "cell_type": "code",
      "source": [
        "# File-like ways to open the files so that we can loop, etc.\n",
        "shp_file_landuse = open(\"landuse_files/AA_LandUse.shp\", \"rb\")\n",
        "dbf_file_landuse = open(\"landuse_files/AA_LandUse.dbf\", \"rb\")\n",
        "\n",
        "# Construct the reader.\n",
        "sf_landuse = shapefile.Reader(shp=shp_file_landuse, dbf=dbf_file_landuse)"
      ],
      "metadata": {
        "id": "SuD2fS92y8OJ"
      },
      "execution_count": null,
      "outputs": []
    },
    {
      "cell_type": "code",
      "source": [
        "# File-like ways to open the files so that we can loop, etc.\n",
        "shp_file_noncity_open = open(\"noncity_open_files/AA_Non_City_Open_Spaces.shp\", \"rb\")\n",
        "dbf_file_noncity_open = open(\"noncity_open_files/AA_Non_City_Open_Spaces.dbf\", \"rb\")\n",
        "\n",
        "# Construct the reader.\n",
        "sf_noncity_open = shapefile.Reader(shp=shp_file_noncity_open, dbf=dbf_file_noncity_open)"
      ],
      "metadata": {
        "id": "8zkGeThe0ZPe"
      },
      "execution_count": null,
      "outputs": []
    },
    {
      "cell_type": "code",
      "source": [
        "# File-like ways to open the files so that we can loop, etc.\n",
        "shp_file_parks = open(\"park_files/AA_Parks.shp\", \"rb\")\n",
        "dbf_file_parks = open(\"park_files/AA_Parks.dbf\", \"rb\")\n",
        "\n",
        "# Construct the reader.\n",
        "sf_parks = shapefile.Reader(shp=shp_file_parks, dbf=dbf_file_parks)"
      ],
      "metadata": {
        "id": "1AiBe1Qc7v6w"
      },
      "execution_count": null,
      "outputs": []
    },
    {
      "cell_type": "code",
      "source": [
        "display(\n",
        "    f\"dir(sf): {dir(sf)}\",\n",
        "    f\"len(sf): {len(sf)}\",\n",
        "    f\"sf.shapeType: {sf.shapeType}\",\n",
        "    f\"sf.bbox: {sf.bbox}\",\n",
        "    f\"len(sf.shapes()): {len(sf.shapes())}\",\n",
        "    f\"sf.shapes()[0]: {sf.shapes()[0]}\",\n",
        "    f\"dir(shapes): {dir(sf.shapes())}\",\n",
        "    f\"dir(shape) [without '_']: {[name for name in dir(sf.shapes()[0]) if not name.startswith('_')]}\",\n",
        "    f\"sf.shapes()[0].shapeTypeName: {sf.shapes()[0].shapeTypeName}\",\n",
        "    f\"sf.shapes()[0].points: {sf.shapes()[0].points}\",\n",
        "    f\"sf.shapes()[0].points[0]: {sf.shapes()[0].points[0]}\",\n",
        ")"
      ],
      "metadata": {
        "id": "Rjz6L0dDcqgr"
      },
      "execution_count": null,
      "outputs": []
    },
    {
      "cell_type": "code",
      "source": [
        "import numpy as np"
      ],
      "metadata": {
        "id": "PE8NM83Hpqdm"
      },
      "execution_count": null,
      "outputs": []
    },
    {
      "cell_type": "code",
      "source": [
        "from pyproj import Transformer\n",
        "\n",
        "# Define coordinate systems.\n",
        "source_crs = 'EPSG:2253' # NAD_1983_StatePlane_Michigan_South_FIPS_2113_Feet_Intl\n",
        "target_crs = 'EPSG:4269'\n",
        "\n",
        "# Transform coordinates.\n",
        "transformer = Transformer.from_crs(source_crs, target_crs, always_xy=True)"
      ],
      "metadata": {
        "id": "adFRK3WvqdDY"
      },
      "execution_count": null,
      "outputs": []
    },
    {
      "cell_type": "code",
      "source": [
        "shapes_degrees = []\n",
        "shapes_feet = []\n",
        "\n",
        "for shape in sf.shapes():\n",
        "  this_shape_deg = []\n",
        "  this_shape_feet = []\n",
        "\n",
        "  for coordinates in shape.points:\n",
        "    lon_deg, lat_deg = transformer.transform(coordinates[0], coordinates[1])\n",
        "    lon_feet, lat_feet = coordinates[0], coordinates[1]\n",
        "    coordinate_deg = [lon_deg, lat_deg]\n",
        "    coordinate_feet = [lon_feet, lat_feet]\n",
        "    this_shape_deg.append(coordinate_deg)\n",
        "    this_shape_feet.append(coordinate_feet)\n",
        "\n",
        "  shapes_degrees.append(np.array(this_shape_deg))\n",
        "  shapes_feet.append(np.array(this_shape_feet))"
      ],
      "metadata": {
        "id": "IQW1O9gXJZs2"
      },
      "execution_count": null,
      "outputs": []
    },
    {
      "cell_type": "code",
      "source": [
        "shapes_degrees_trees = []\n",
        "shapes_feet_trees = []\n",
        "\n",
        "for shape in sf_trees.shapes():\n",
        "  this_shape_deg = []\n",
        "  this_shape_feet = []\n",
        "\n",
        "  for coordinates in shape.points:\n",
        "    lon_deg, lat_deg = transformer.transform(coordinates[0], coordinates[1])\n",
        "    lon_feet, lat_feet = coordinates[0], coordinates[1]\n",
        "    coordinate_deg = [lon_deg, lat_deg]\n",
        "    coordinate_feet = [lon_feet, lat_feet]\n",
        "    this_shape_deg.append(coordinate_deg)\n",
        "    this_shape_feet.append(coordinate_feet)\n",
        "\n",
        "  shapes_degrees_trees.append(np.array(this_shape_deg))\n",
        "  shapes_feet_trees.append(np.array(this_shape_feet))"
      ],
      "metadata": {
        "id": "KK3NLR7Sm4eZ"
      },
      "execution_count": null,
      "outputs": []
    },
    {
      "cell_type": "code",
      "source": [
        "shapes_degrees_landuse = []\n",
        "shapes_feet_landuse = []\n",
        "\n",
        "for shape in sf_landuse.shapes():\n",
        "  this_shape_deg = []\n",
        "  this_shape_feet = []\n",
        "\n",
        "  for coordinates in shape.points:\n",
        "    lon_deg, lat_deg = transformer.transform(coordinates[0], coordinates[1])\n",
        "    lon_feet, lat_feet = coordinates[0], coordinates[1]\n",
        "    coordinate_deg = [lon_deg, lat_deg]\n",
        "    coordinate_feet = [lon_feet, lat_feet]\n",
        "    this_shape_deg.append(coordinate_deg)\n",
        "    this_shape_feet.append(coordinate_feet)\n",
        "\n",
        "  shapes_degrees_landuse.append(np.array(this_shape_deg))\n",
        "  shapes_feet_landuse.append(np.array(this_shape_feet))"
      ],
      "metadata": {
        "id": "sDbHSuA6zH4f"
      },
      "execution_count": null,
      "outputs": []
    },
    {
      "cell_type": "code",
      "source": [
        "shapes_degrees_noncity_open = []\n",
        "shapes_feet_noncity_open = []\n",
        "\n",
        "for shape in sf_noncity_open.shapes():\n",
        "  this_shape_deg = []\n",
        "  this_shape_feet = []\n",
        "\n",
        "  for coordinates in shape.points:\n",
        "    lon_deg, lat_deg = transformer.transform(coordinates[0], coordinates[1])\n",
        "    lon_feet, lat_feet = coordinates[0], coordinates[1]\n",
        "    coordinate_deg = [lon_deg, lat_deg]\n",
        "    coordinate_feet = [lon_feet, lat_feet]\n",
        "    this_shape_deg.append(coordinate_deg)\n",
        "    this_shape_feet.append(coordinate_feet)\n",
        "\n",
        "  shapes_degrees_noncity_open.append(np.array(this_shape_deg))\n",
        "  shapes_feet_noncity_open.append(np.array(this_shape_feet))"
      ],
      "metadata": {
        "id": "OMzT1cpk4b74"
      },
      "execution_count": null,
      "outputs": []
    },
    {
      "cell_type": "code",
      "source": [
        "shapes_degrees_parks = []\n",
        "shapes_feet_parks = []\n",
        "\n",
        "for shape in sf_parks.shapes():\n",
        "  this_shape_deg = []\n",
        "  this_shape_feet = []\n",
        "\n",
        "  for coordinates in shape.points:\n",
        "    lon_deg, lat_deg = transformer.transform(coordinates[0], coordinates[1])\n",
        "    lon_feet, lat_feet = coordinates[0], coordinates[1]\n",
        "    coordinate_deg = [lon_deg, lat_deg]\n",
        "    coordinate_feet = [lon_feet, lat_feet]\n",
        "    this_shape_deg.append(coordinate_deg)\n",
        "    this_shape_feet.append(coordinate_feet)\n",
        "\n",
        "  shapes_degrees_parks.append(np.array(this_shape_deg))\n",
        "  shapes_feet_parks.append(np.array(this_shape_feet))"
      ],
      "metadata": {
        "id": "1HOImGTG76Ce"
      },
      "execution_count": null,
      "outputs": []
    },
    {
      "cell_type": "code",
      "source": [
        "pip install ghostscript"
      ],
      "metadata": {
        "id": "sRDcaqmwndSV"
      },
      "execution_count": null,
      "outputs": []
    },
    {
      "cell_type": "code",
      "source": [
        "!apt-get install ghostscript"
      ],
      "metadata": {
        "id": "gTrFlNHxotV1"
      },
      "execution_count": null,
      "outputs": []
    },
    {
      "cell_type": "code",
      "source": [
        "!apt-get install gmt"
      ],
      "metadata": {
        "id": "SaHxn_DdlUZU"
      },
      "execution_count": null,
      "outputs": []
    },
    {
      "cell_type": "code",
      "source": [
        "pip install pygmt"
      ],
      "metadata": {
        "id": "ZhZ07epKjNIu"
      },
      "execution_count": null,
      "outputs": []
    },
    {
      "cell_type": "code",
      "source": [
        "# Avoid the GMTCLibNotFoundError when importing pygmt. Collab doesn't match\n",
        "# the environment expected from that package, so we'll manually add a symlink.\n",
        "!ln -s /lib/x86_64-linux-gnu/libgmt.so.6 /lib/x86_64-linux-gnu/libgmt.so"
      ],
      "metadata": {
        "id": "9mUFgcFAl84s"
      },
      "execution_count": null,
      "outputs": []
    },
    {
      "cell_type": "code",
      "source": [
        "import ghostscript"
      ],
      "metadata": {
        "id": "J8BWODFFkXp6"
      },
      "execution_count": null,
      "outputs": []
    },
    {
      "cell_type": "code",
      "source": [
        "from pyproj import Transformer\n",
        "\n",
        "# Define coordinate systems.\n",
        "source_crs = 'EPSG:2253' # NAD_1983_StatePlane_Michigan_South_FIPS_2113_Feet_Intl\n",
        "target_crs = 'EPSG:4269'\n",
        "\n",
        "# Transform coordinates.\n",
        "transformer = Transformer.from_crs(source_crs, target_crs, always_xy=True)\n",
        "west_lon, south_lat = transformer.transform(sf.bbox[0], sf.bbox[1])\n",
        "east_lon, north_lat = transformer.transform(sf.bbox[2], sf.bbox[3])\n",
        "\n",
        "# For sanity checks.\n",
        "display(f'East Longitude: {sf.bbox[2]} -> {east_lon}, South Latitude: {sf.bbox[1]} -> {south_lat}')\n",
        "display(f'West Longitude: {sf.bbox[0]} -> {west_lon}, North Latitude: {sf.bbox[3]} -> {north_lat}')"
      ],
      "metadata": {
        "id": "73qBDRn-FCYQ"
      },
      "execution_count": null,
      "outputs": []
    },
    {
      "cell_type": "code",
      "source": [
        "# Projection options.\n",
        "projection_lambert = \"L-100/35/33/45/12c\"\n",
        "projection_mercator = \"M0/0/50c\""
      ],
      "metadata": {
        "id": "OZbSc_15o9kq"
      },
      "execution_count": null,
      "outputs": []
    },
    {
      "cell_type": "code",
      "source": [
        "import pygmt"
      ],
      "metadata": {
        "id": "77bVjcSFpZz-"
      },
      "execution_count": null,
      "outputs": []
    },
    {
      "cell_type": "code",
      "source": [
        "# Display the map. ~9 min.\n",
        "fig = pygmt.Figure()\n",
        "\n",
        "fig.coast(\n",
        "    shorelines=\"1/0.5p\",\n",
        "    region=[west_lon, east_lon, south_lat, north_lat],\n",
        "    projection=projection_mercator,\n",
        "    land=\"gray94\",\n",
        "    water=\"royalblue1\",\n",
        "    borders=[\"1/thick,black\", \"2/thin,black\"],\n",
        "    frame=\"f\",\n",
        ")\n",
        "\n",
        "# Building footprints.\n",
        "for shape_degree in shapes_degrees:\n",
        "  try:\n",
        "    x = shape_degree[:, 0]\n",
        "    y = shape_degree[:, 1]\n",
        "  except:\n",
        "    continue\n",
        "\n",
        "  fig.plot(\n",
        "      x=x,\n",
        "      y=y,\n",
        "      pen=\"0.1p,black\"\n",
        "  )\n",
        "\n",
        "# Trees.\n",
        "for shape_degree in shapes_degrees_trees:\n",
        "  try:\n",
        "    x = shape_degree[:, 0]\n",
        "    y = shape_degree[:, 1]\n",
        "  except:\n",
        "    continue\n",
        "\n",
        "  fig.plot(\n",
        "      x=x,\n",
        "      y=y,\n",
        "      style=\"c0.05c\",\n",
        "      fill=\"palegreen2\",\n",
        "      pen=\"palegreen4\",\n",
        "  )\n",
        "\n",
        "# Landuse.\n",
        "for shape_degree in shapes_degrees_landuse:\n",
        "  try:\n",
        "    x = shape_degree[:, 0]\n",
        "    y = shape_degree[:, 1]\n",
        "  except:\n",
        "    continue\n",
        "\n",
        "  fig.plot(\n",
        "      x=x,\n",
        "      y=y,\n",
        "      pen=\"0.1p,gray49\",\n",
        "  )\n",
        "\n",
        "# Non-city open spaces.\n",
        "for shape_degree in shapes_degrees_noncity_open:\n",
        "  try:\n",
        "    x = shape_degree[:, 0]\n",
        "    y = shape_degree[:, 1]\n",
        "  except:\n",
        "    continue\n",
        "\n",
        "  fig.plot(\n",
        "      x=x,\n",
        "      y=y,\n",
        "      pen=\"0.1p,orangered3\",\n",
        "  )\n",
        "\n",
        "# Parks.\n",
        "for shape_degree in shapes_degrees_parks:\n",
        "  try:\n",
        "    x = shape_degree[:, 0]\n",
        "    y = shape_degree[:, 1]\n",
        "  except:\n",
        "    continue\n",
        "\n",
        "  fig.plot(\n",
        "      x=x,\n",
        "      y=y,\n",
        "      fill=\"darkseagreen1\",\n",
        "      pen=\"0.1p,darkseagreen3\",\n",
        "  )\n",
        "\n",
        "fig.show()"
      ],
      "metadata": {
        "id": "_Uie58L0w9DB"
      },
      "execution_count": null,
      "outputs": []
    }
  ]
}